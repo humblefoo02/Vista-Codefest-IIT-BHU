{
 "cells": [
  {
   "cell_type": "code",
   "execution_count": 1,
   "id": "64f79e4c-9a51-4477-a3cd-63ac96681cc8",
   "metadata": {},
   "outputs": [],
   "source": [
    "import numpy as np\n",
    "import pandas as pd\n",
    "import tensorflow as tf  # Add this line to import TensorFlow\n",
    "from sklearn.model_selection import train_test_split\n",
    "from tensorflow.keras.preprocessing.image import ImageDataGenerator\n",
    "from tensorflow.keras.optimizers import Adam"
   ]
  },
  {
   "cell_type": "code",
   "execution_count": 2,
   "id": "b1c386fc-62af-4634-9b40-a1f1996aa25d",
   "metadata": {},
   "outputs": [
    {
     "name": "stdout",
     "output_type": "stream",
     "text": [
      "Found 8186 validated image filenames.\n",
      "Found 2047 validated image filenames.\n"
     ]
    }
   ],
   "source": [
    "# Load the preprocessed data\n",
    "train_df = pd.read_csv('train.csv')\n",
    "test_df = pd.read_csv('test.csv')\n",
    "\n",
    "# Split the data into training and validation sets\n",
    "train_data, val_data = train_test_split(train_df, test_size=0.2, random_state=42)\n",
    "\n",
    "# Set up image data generators with data augmentation\n",
    "train_datagen = ImageDataGenerator(\n",
    "    rescale=1./255,\n",
    "    rotation_range=20,\n",
    "    width_shift_range=0.2,\n",
    "    height_shift_range=0.2,\n",
    "    shear_range=0.2,\n",
    "    zoom_range=0.2,\n",
    "    horizontal_flip=True,\n",
    "    fill_mode='nearest'\n",
    ")\n",
    "\n",
    "val_datagen = ImageDataGenerator(rescale=1./255)\n",
    "\n",
    "# Create data generators\n",
    "train_generator = train_datagen.flow_from_dataframe(\n",
    "    dataframe=train_data,\n",
    "    directory='dataset/preprocessed/train',\n",
    "    x_col='Name',\n",
    "    y_col='HeadCount',\n",
    "    target_size=(224, 224),\n",
    "    batch_size=32,\n",
    "    class_mode='raw'\n",
    ")\n",
    "\n",
    "val_generator = val_datagen.flow_from_dataframe(\n",
    "    dataframe=val_data,\n",
    "    directory='dataset/preprocessed/train',\n",
    "    x_col='Name',\n",
    "    y_col='HeadCount',\n",
    "    target_size=(224, 224),\n",
    "    batch_size=32,\n",
    "    class_mode='raw'\n",
    ")"
   ]
  },
  {
   "cell_type": "code",
   "execution_count": 5,
   "id": "e7b11f96-0eb2-4205-910a-971fbe755bdc",
   "metadata": {},
   "outputs": [
    {
     "name": "stdout",
     "output_type": "stream",
     "text": [
      "Model: \"model\"\n",
      "__________________________________________________________________________________________________\n",
      " Layer (type)                   Output Shape         Param #     Connected to                     \n",
      "==================================================================================================\n",
      " input_1 (InputLayer)           [(None, 224, 224, 3  0           []                               \n",
      "                                )]                                                                \n",
      "                                                                                                  \n",
      " conv2d (Conv2D)                (None, 112, 112, 64  1792        ['input_1[0][0]']                \n",
      "                                )                                                                 \n",
      "                                                                                                  \n",
      " max_pooling2d (MaxPooling2D)   (None, 55, 55, 64)   0           ['conv2d[0][0]']                 \n",
      "                                                                                                  \n",
      " conv2d_1 (Conv2D)              (None, 55, 55, 16)   1040        ['max_pooling2d[0][0]']          \n",
      "                                                                                                  \n",
      " conv2d_2 (Conv2D)              (None, 55, 55, 64)   1088        ['conv2d_1[0][0]']               \n",
      "                                                                                                  \n",
      " conv2d_3 (Conv2D)              (None, 55, 55, 64)   9280        ['conv2d_1[0][0]']               \n",
      "                                                                                                  \n",
      " concatenate (Concatenate)      (None, 55, 55, 128)  0           ['conv2d_2[0][0]',               \n",
      "                                                                  'conv2d_3[0][0]']               \n",
      "                                                                                                  \n",
      " conv2d_4 (Conv2D)              (None, 55, 55, 16)   2064        ['concatenate[0][0]']            \n",
      "                                                                                                  \n",
      " conv2d_5 (Conv2D)              (None, 55, 55, 64)   1088        ['conv2d_4[0][0]']               \n",
      "                                                                                                  \n",
      " conv2d_6 (Conv2D)              (None, 55, 55, 64)   9280        ['conv2d_4[0][0]']               \n",
      "                                                                                                  \n",
      " concatenate_1 (Concatenate)    (None, 55, 55, 128)  0           ['conv2d_5[0][0]',               \n",
      "                                                                  'conv2d_6[0][0]']               \n",
      "                                                                                                  \n",
      " max_pooling2d_1 (MaxPooling2D)  (None, 27, 27, 128)  0          ['concatenate_1[0][0]']          \n",
      "                                                                                                  \n",
      " conv2d_7 (Conv2D)              (None, 27, 27, 32)   4128        ['max_pooling2d_1[0][0]']        \n",
      "                                                                                                  \n",
      " conv2d_8 (Conv2D)              (None, 27, 27, 128)  4224        ['conv2d_7[0][0]']               \n",
      "                                                                                                  \n",
      " conv2d_9 (Conv2D)              (None, 27, 27, 128)  36992       ['conv2d_7[0][0]']               \n",
      "                                                                                                  \n",
      " concatenate_2 (Concatenate)    (None, 27, 27, 256)  0           ['conv2d_8[0][0]',               \n",
      "                                                                  'conv2d_9[0][0]']               \n",
      "                                                                                                  \n",
      " conv2d_10 (Conv2D)             (None, 27, 27, 32)   8224        ['concatenate_2[0][0]']          \n",
      "                                                                                                  \n",
      " conv2d_11 (Conv2D)             (None, 27, 27, 128)  4224        ['conv2d_10[0][0]']              \n",
      "                                                                                                  \n",
      " conv2d_12 (Conv2D)             (None, 27, 27, 128)  36992       ['conv2d_10[0][0]']              \n",
      "                                                                                                  \n",
      " concatenate_3 (Concatenate)    (None, 27, 27, 256)  0           ['conv2d_11[0][0]',              \n",
      "                                                                  'conv2d_12[0][0]']              \n",
      "                                                                                                  \n",
      " max_pooling2d_2 (MaxPooling2D)  (None, 13, 13, 256)  0          ['concatenate_3[0][0]']          \n",
      "                                                                                                  \n",
      " conv2d_13 (Conv2D)             (None, 13, 13, 48)   12336       ['max_pooling2d_2[0][0]']        \n",
      "                                                                                                  \n",
      " conv2d_14 (Conv2D)             (None, 13, 13, 192)  9408        ['conv2d_13[0][0]']              \n",
      "                                                                                                  \n",
      " conv2d_15 (Conv2D)             (None, 13, 13, 192)  83136       ['conv2d_13[0][0]']              \n",
      "                                                                                                  \n",
      " concatenate_4 (Concatenate)    (None, 13, 13, 384)  0           ['conv2d_14[0][0]',              \n",
      "                                                                  'conv2d_15[0][0]']              \n",
      "                                                                                                  \n",
      " conv2d_16 (Conv2D)             (None, 13, 13, 48)   18480       ['concatenate_4[0][0]']          \n",
      "                                                                                                  \n",
      " conv2d_17 (Conv2D)             (None, 13, 13, 192)  9408        ['conv2d_16[0][0]']              \n",
      "                                                                                                  \n",
      " conv2d_18 (Conv2D)             (None, 13, 13, 192)  83136       ['conv2d_16[0][0]']              \n",
      "                                                                                                  \n",
      " concatenate_5 (Concatenate)    (None, 13, 13, 384)  0           ['conv2d_17[0][0]',              \n",
      "                                                                  'conv2d_18[0][0]']              \n",
      "                                                                                                  \n",
      " conv2d_19 (Conv2D)             (None, 13, 13, 64)   24640       ['concatenate_5[0][0]']          \n",
      "                                                                                                  \n",
      " conv2d_20 (Conv2D)             (None, 13, 13, 256)  16640       ['conv2d_19[0][0]']              \n",
      "                                                                                                  \n",
      " conv2d_21 (Conv2D)             (None, 13, 13, 256)  147712      ['conv2d_19[0][0]']              \n",
      "                                                                                                  \n",
      " concatenate_6 (Concatenate)    (None, 13, 13, 512)  0           ['conv2d_20[0][0]',              \n",
      "                                                                  'conv2d_21[0][0]']              \n",
      "                                                                                                  \n",
      " conv2d_22 (Conv2D)             (None, 13, 13, 64)   32832       ['concatenate_6[0][0]']          \n",
      "                                                                                                  \n",
      " conv2d_23 (Conv2D)             (None, 13, 13, 256)  16640       ['conv2d_22[0][0]']              \n",
      "                                                                                                  \n",
      " conv2d_24 (Conv2D)             (None, 13, 13, 256)  147712      ['conv2d_22[0][0]']              \n",
      "                                                                                                  \n",
      " concatenate_7 (Concatenate)    (None, 13, 13, 512)  0           ['conv2d_23[0][0]',              \n",
      "                                                                  'conv2d_24[0][0]']              \n",
      "                                                                                                  \n",
      " conv2d_25 (Conv2D)             (None, 13, 13, 1)    513         ['concatenate_7[0][0]']          \n",
      "                                                                                                  \n",
      " global_average_pooling2d (Glob  (None, 1)           0           ['conv2d_25[0][0]']              \n",
      " alAveragePooling2D)                                                                              \n",
      "                                                                                                  \n",
      "==================================================================================================\n",
      "Total params: 723,009\n",
      "Trainable params: 723,009\n",
      "Non-trainable params: 0\n",
      "__________________________________________________________________________________________________\n"
     ]
    },
    {
     "name": "stderr",
     "output_type": "stream",
     "text": [
      "/var/folders/qv/7r3vg1ns6qbgvs0t3_dxc3qm0000gn/T/ipykernel_2471/1437364992.py:43: UserWarning: `Model.fit_generator` is deprecated and will be removed in a future version. Please use `Model.fit`, which supports generators.\n",
      "  history = model.fit_generator(\n"
     ]
    },
    {
     "name": "stdout",
     "output_type": "stream",
     "text": [
      "Epoch 1/50\n"
     ]
    },
    {
     "name": "stderr",
     "output_type": "stream",
     "text": [
      "2024-03-29 16:26:15.575790: I tensorflow/core/common_runtime/executor.cc:1197] [/device:CPU:0] (DEBUG INFO) Executor start aborting (this does not indicate an error and you can ignore this message): INVALID_ARGUMENT: You must feed a value for placeholder tensor 'Placeholder/_0' with dtype int32\n",
      "\t [[{{node Placeholder/_0}}]]\n",
      "2024-03-29 16:26:15.580419: W tensorflow/tsl/platform/profile_utils/cpu_utils.cc:128] Failed to get CPU frequency: 0 Hz\n"
     ]
    },
    {
     "name": "stdout",
     "output_type": "stream",
     "text": [
      "256/256 [==============================] - ETA: 0s - loss: 18.3647 - mae: 2.9451"
     ]
    },
    {
     "name": "stderr",
     "output_type": "stream",
     "text": [
      "2024-03-29 16:27:26.639958: I tensorflow/core/common_runtime/executor.cc:1197] [/device:CPU:0] (DEBUG INFO) Executor start aborting (this does not indicate an error and you can ignore this message): INVALID_ARGUMENT: You must feed a value for placeholder tensor 'Placeholder/_0' with dtype int32\n",
      "\t [[{{node Placeholder/_0}}]]\n"
     ]
    },
    {
     "name": "stdout",
     "output_type": "stream",
     "text": [
      "256/256 [==============================] - 76s 295ms/step - loss: 18.3647 - mae: 2.9451 - val_loss: 13.0787 - val_mae: 2.6228\n",
      "Epoch 2/50\n",
      "256/256 [==============================] - 76s 295ms/step - loss: 14.6636 - mae: 2.6410 - val_loss: 11.2965 - val_mae: 2.5449\n",
      "Epoch 3/50\n",
      "256/256 [==============================] - 75s 294ms/step - loss: 14.0600 - mae: 2.5691 - val_loss: 11.8161 - val_mae: 2.5698\n",
      "Epoch 4/50\n",
      "256/256 [==============================] - 76s 296ms/step - loss: 13.3293 - mae: 2.4908 - val_loss: 11.0152 - val_mae: 2.4424\n",
      "Epoch 5/50\n",
      "256/256 [==============================] - 76s 294ms/step - loss: 12.5807 - mae: 2.4142 - val_loss: 11.2871 - val_mae: 2.4656\n",
      "Epoch 6/50\n",
      "256/256 [==============================] - 76s 295ms/step - loss: 12.3919 - mae: 2.3975 - val_loss: 12.3164 - val_mae: 2.5353\n",
      "Epoch 7/50\n",
      "256/256 [==============================] - 76s 295ms/step - loss: 12.5009 - mae: 2.4127 - val_loss: 9.9103 - val_mae: 2.3013\n",
      "Epoch 8/50\n",
      "256/256 [==============================] - 75s 293ms/step - loss: 12.2057 - mae: 2.3651 - val_loss: 13.5816 - val_mae: 2.7736\n",
      "Epoch 9/50\n",
      "256/256 [==============================] - 75s 294ms/step - loss: 11.9868 - mae: 2.3434 - val_loss: 9.5916 - val_mae: 2.2392\n",
      "Epoch 10/50\n",
      "256/256 [==============================] - 76s 296ms/step - loss: 11.9930 - mae: 2.3627 - val_loss: 11.0122 - val_mae: 2.4965\n",
      "Epoch 11/50\n",
      "256/256 [==============================] - 75s 294ms/step - loss: 11.5421 - mae: 2.3228 - val_loss: 13.4712 - val_mae: 2.7428\n",
      "Epoch 12/50\n",
      "256/256 [==============================] - 75s 293ms/step - loss: 11.4178 - mae: 2.3042 - val_loss: 15.2844 - val_mae: 3.0495\n",
      "Epoch 13/50\n",
      "256/256 [==============================] - 75s 293ms/step - loss: 11.6916 - mae: 2.3237 - val_loss: 10.6962 - val_mae: 2.5004\n",
      "Epoch 14/50\n",
      "256/256 [==============================] - 76s 295ms/step - loss: 11.2897 - mae: 2.2934 - val_loss: 11.2636 - val_mae: 2.5732\n",
      "Epoch 15/50\n",
      "256/256 [==============================] - 75s 292ms/step - loss: 11.2969 - mae: 2.2953 - val_loss: 11.5954 - val_mae: 2.5348\n",
      "Epoch 16/50\n",
      "256/256 [==============================] - 75s 293ms/step - loss: 11.4689 - mae: 2.2979 - val_loss: 10.1032 - val_mae: 2.3877\n",
      "Epoch 17/50\n",
      "256/256 [==============================] - 75s 293ms/step - loss: 11.1100 - mae: 2.2742 - val_loss: 9.5237 - val_mae: 2.3433\n",
      "Epoch 18/50\n",
      "256/256 [==============================] - 75s 293ms/step - loss: 11.2107 - mae: 2.2881 - val_loss: 9.6306 - val_mae: 2.3334\n",
      "Epoch 19/50\n",
      "256/256 [==============================] - 76s 295ms/step - loss: 10.9632 - mae: 2.2640 - val_loss: 9.9836 - val_mae: 2.3495\n",
      "Epoch 20/50\n",
      "256/256 [==============================] - 75s 294ms/step - loss: 10.8143 - mae: 2.2467 - val_loss: 9.5684 - val_mae: 2.2888\n",
      "Epoch 21/50\n",
      "256/256 [==============================] - 77s 299ms/step - loss: 10.8106 - mae: 2.2480 - val_loss: 13.0939 - val_mae: 2.7687\n",
      "Epoch 22/50\n",
      "256/256 [==============================] - 77s 302ms/step - loss: 11.0726 - mae: 2.2660 - val_loss: 10.3875 - val_mae: 2.3979\n",
      "Epoch 23/50\n",
      "256/256 [==============================] - 76s 298ms/step - loss: 10.6996 - mae: 2.2323 - val_loss: 10.8472 - val_mae: 2.2710\n",
      "Epoch 24/50\n",
      "256/256 [==============================] - 75s 294ms/step - loss: 10.6182 - mae: 2.2276 - val_loss: 9.5600 - val_mae: 2.2822\n",
      "Epoch 25/50\n",
      "256/256 [==============================] - 76s 296ms/step - loss: 10.7580 - mae: 2.2278 - val_loss: 9.4095 - val_mae: 2.2837\n",
      "Epoch 26/50\n",
      "256/256 [==============================] - 76s 297ms/step - loss: 10.6932 - mae: 2.2340 - val_loss: 9.3326 - val_mae: 2.2775\n",
      "Epoch 27/50\n",
      "256/256 [==============================] - 76s 297ms/step - loss: 10.5304 - mae: 2.2133 - val_loss: 8.6531 - val_mae: 2.1361\n",
      "Epoch 28/50\n",
      "256/256 [==============================] - 76s 297ms/step - loss: 10.4744 - mae: 2.2172 - val_loss: 8.6321 - val_mae: 2.1190\n",
      "Epoch 29/50\n",
      "256/256 [==============================] - 76s 296ms/step - loss: 10.8704 - mae: 2.2531 - val_loss: 9.3723 - val_mae: 2.3057\n",
      "Epoch 30/50\n",
      "256/256 [==============================] - 76s 295ms/step - loss: 10.4581 - mae: 2.2215 - val_loss: 9.5194 - val_mae: 2.1685\n",
      "Epoch 31/50\n",
      "256/256 [==============================] - 76s 297ms/step - loss: 10.4417 - mae: 2.2200 - val_loss: 10.1661 - val_mae: 2.3804\n",
      "Epoch 32/50\n",
      "256/256 [==============================] - 76s 295ms/step - loss: 10.2194 - mae: 2.1925 - val_loss: 8.1581 - val_mae: 2.1375\n",
      "Epoch 33/50\n",
      "256/256 [==============================] - 76s 296ms/step - loss: 10.2241 - mae: 2.1981 - val_loss: 10.9000 - val_mae: 2.4965\n",
      "Epoch 34/50\n",
      "256/256 [==============================] - 76s 297ms/step - loss: 10.4872 - mae: 2.2092 - val_loss: 8.9900 - val_mae: 2.2156\n",
      "Epoch 35/50\n",
      "256/256 [==============================] - 76s 295ms/step - loss: 10.0957 - mae: 2.1776 - val_loss: 11.6207 - val_mae: 2.6639\n",
      "Epoch 36/50\n",
      "256/256 [==============================] - 75s 293ms/step - loss: 10.1481 - mae: 2.2072 - val_loss: 12.7610 - val_mae: 2.6359\n",
      "Epoch 37/50\n",
      "256/256 [==============================] - 75s 293ms/step - loss: 10.3095 - mae: 2.2091 - val_loss: 8.8473 - val_mae: 2.2031\n",
      "Epoch 38/50\n",
      "256/256 [==============================] - 75s 291ms/step - loss: 10.0954 - mae: 2.1833 - val_loss: 8.2022 - val_mae: 2.1139\n",
      "Epoch 39/50\n",
      "256/256 [==============================] - 77s 299ms/step - loss: 9.9846 - mae: 2.1723 - val_loss: 8.5404 - val_mae: 2.1578\n",
      "Epoch 40/50\n",
      "256/256 [==============================] - 77s 299ms/step - loss: 10.0604 - mae: 2.1906 - val_loss: 8.1281 - val_mae: 2.1208\n",
      "Epoch 41/50\n",
      "256/256 [==============================] - 76s 298ms/step - loss: 9.8860 - mae: 2.1749 - val_loss: 9.0400 - val_mae: 2.1215\n",
      "Epoch 42/50\n",
      "256/256 [==============================] - 79s 306ms/step - loss: 10.1218 - mae: 2.1929 - val_loss: 8.3935 - val_mae: 2.1525\n",
      "Epoch 43/50\n",
      "256/256 [==============================] - 78s 303ms/step - loss: 9.8089 - mae: 2.1518 - val_loss: 10.9622 - val_mae: 2.5242\n",
      "Epoch 44/50\n",
      "256/256 [==============================] - 79s 306ms/step - loss: 9.7604 - mae: 2.1490 - val_loss: 9.0353 - val_mae: 2.1750\n",
      "Epoch 45/50\n",
      "256/256 [==============================] - 78s 305ms/step - loss: 9.7233 - mae: 2.1665 - val_loss: 8.1342 - val_mae: 2.0951\n",
      "Epoch 46/50\n",
      "256/256 [==============================] - 77s 300ms/step - loss: 9.7869 - mae: 2.1691 - val_loss: 9.7016 - val_mae: 2.3553\n",
      "Epoch 47/50\n",
      "256/256 [==============================] - 76s 295ms/step - loss: 9.8368 - mae: 2.1630 - val_loss: 10.8621 - val_mae: 2.5341\n",
      "Epoch 48/50\n",
      "256/256 [==============================] - 77s 301ms/step - loss: 9.6379 - mae: 2.1621 - val_loss: 9.3865 - val_mae: 2.2863\n",
      "Epoch 49/50\n",
      "256/256 [==============================] - 77s 298ms/step - loss: 9.4294 - mae: 2.1312 - val_loss: 9.7898 - val_mae: 2.3707\n",
      "Epoch 50/50\n",
      "256/256 [==============================] - 76s 295ms/step - loss: 9.6808 - mae: 2.1571 - val_loss: 8.4571 - val_mae: 2.2238\n"
     ]
    }
   ],
   "source": [
    "from tensorflow.keras.layers import Conv2D, MaxPooling2D, GlobalAveragePooling2D, Concatenate, Input, Activation\n",
    "from tensorflow.keras.models import Model\n",
    "\n",
    "def fire_module(x, squeeze_filters, expand_filters):\n",
    "    squeeze = Conv2D(squeeze_filters, (1, 1), padding='same', activation='relu')(x)\n",
    "    expand_1x1 = Conv2D(expand_filters, (1, 1), padding='same', activation='relu')(squeeze)\n",
    "    expand_3x3 = Conv2D(expand_filters, (3, 3), padding='same', activation='relu')(squeeze)\n",
    "    return Concatenate()([expand_1x1, expand_3x3])\n",
    "\n",
    "def squeezenet_model(input_shape):\n",
    "    inputs = Input(input_shape)\n",
    "\n",
    "    # Initial convolution layer\n",
    "    x = Conv2D(64, (3, 3), strides=(2, 2), padding='same', activation='relu')(inputs)\n",
    "    x = MaxPooling2D(pool_size=(3, 3), strides=(2, 2))(x)\n",
    "\n",
    "    # Fire modules\n",
    "    x = fire_module(x, squeeze_filters=16, expand_filters=64)\n",
    "    x = fire_module(x, squeeze_filters=16, expand_filters=64)\n",
    "    x = MaxPooling2D(pool_size=(3, 3), strides=(2, 2))(x)\n",
    "\n",
    "    x = fire_module(x, squeeze_filters=32, expand_filters=128)\n",
    "    x = fire_module(x, squeeze_filters=32, expand_filters=128)\n",
    "    x = MaxPooling2D(pool_size=(3, 3), strides=(2, 2))(x)\n",
    "\n",
    "    x = fire_module(x, squeeze_filters=48, expand_filters=192)\n",
    "    x = fire_module(x, squeeze_filters=48, expand_filters=192)\n",
    "    x = fire_module(x, squeeze_filters=64, expand_filters=256)\n",
    "    x = fire_module(x, squeeze_filters=64, expand_filters=256)\n",
    "\n",
    "    # Final convolution layer\n",
    "    x = Conv2D(1, (1, 1), padding='same', activation='linear')(x)\n",
    "    x = GlobalAveragePooling2D()(x)\n",
    "\n",
    "    model = Model(inputs=inputs, outputs=x)\n",
    "    return model\n",
    "\n",
    "model = squeezenet_model(input_shape=(224, 224, 3))\n",
    "model.compile(optimizer='adam', loss='mean_squared_error', metrics=['mae'])\n",
    "model.summary()\n",
    "\n",
    "# Train the model\n",
    "history = model.fit_generator(\n",
    "    train_generator,\n",
    "    steps_per_epoch=len(train_generator),\n",
    "    epochs=50,\n",
    "    validation_data=val_generator,\n",
    "    validation_steps=len(val_generator)\n",
    ")\n",
    "\n",
    "# Save the trained model\n",
    "model.save('head_count_squeezenet_model.h5')"
   ]
  },
  {
   "cell_type": "code",
   "execution_count": 6,
   "id": "b33d5364-ebd0-42e3-895d-ff401d8850e9",
   "metadata": {},
   "outputs": [],
   "source": [
    "from tensorflow.keras.models import load_model\n",
    "\n",
    "loaded_model = load_model('head_count_squeezenet_model.h5')"
   ]
  },
  {
   "cell_type": "code",
   "execution_count": 7,
   "id": "d02bafcd-3826-4a42-90d0-eec241d8f2a3",
   "metadata": {},
   "outputs": [
    {
     "name": "stderr",
     "output_type": "stream",
     "text": [
      "2024-03-29 17:30:01.719506: I tensorflow/core/common_runtime/executor.cc:1197] [/device:CPU:0] (DEBUG INFO) Executor start aborting (this does not indicate an error and you can ignore this message): INVALID_ARGUMENT: You must feed a value for placeholder tensor 'Placeholder/_0' with dtype int32\n",
      "\t [[{{node Placeholder/_0}}]]\n"
     ]
    },
    {
     "name": "stdout",
     "output_type": "stream",
     "text": [
      "256/256 [==============================] - 61s 237ms/step - loss: 9.4061 - mae: 2.1486\n",
      "Training Loss: 9.40605354309082\n",
      "Training RMSE: 2.148550510406494\n"
     ]
    }
   ],
   "source": [
    "train_loss, train_rmse = model.evaluate(train_generator)\n",
    "\n",
    "print(f\"Training Loss: {train_loss}\")\n",
    "print(f\"Training RMSE: {train_rmse}\")"
   ]
  },
  {
   "cell_type": "code",
   "execution_count": 8,
   "id": "41067ecb-a99a-4d0a-844f-8679c55ba179",
   "metadata": {},
   "outputs": [
    {
     "name": "stdout",
     "output_type": "stream",
     "text": [
      "Found 3963 validated image filenames.\n"
     ]
    }
   ],
   "source": [
    "test_df = pd.read_csv('test.csv')\n",
    "\n",
    "test_datagen = ImageDataGenerator(rescale=1./255)\n",
    "\n",
    "test_generator = test_datagen.flow_from_dataframe(\n",
    "    dataframe=test_df,\n",
    "    directory='dataset/preprocessed/test',\n",
    "    x_col='Name',\n",
    "    y_col=None,\n",
    "    target_size=(224, 224),\n",
    "    batch_size=32,\n",
    "    class_mode=None,\n",
    "    shuffle=False \n",
    ")"
   ]
  },
  {
   "cell_type": "code",
   "execution_count": 9,
   "id": "4cb4c9be-623e-496c-89a8-ba3650e4814e",
   "metadata": {},
   "outputs": [
    {
     "name": "stderr",
     "output_type": "stream",
     "text": [
      "2024-03-29 17:31:13.707663: I tensorflow/core/common_runtime/executor.cc:1197] [/device:CPU:0] (DEBUG INFO) Executor start aborting (this does not indicate an error and you can ignore this message): INVALID_ARGUMENT: You must feed a value for placeholder tensor 'Placeholder/_0' with dtype int32\n",
      "\t [[{{node Placeholder/_0}}]]\n"
     ]
    },
    {
     "name": "stdout",
     "output_type": "stream",
     "text": [
      "124/124 [==============================] - 10s 82ms/step\n"
     ]
    }
   ],
   "source": [
    "predictions = model.predict(test_generator)"
   ]
  },
  {
   "cell_type": "code",
   "execution_count": 10,
   "id": "869339bf-b76c-4260-92c2-e557f9a1341e",
   "metadata": {},
   "outputs": [],
   "source": [
    "import numpy as np\n",
    "\n",
    "# Round the predictions to the nearest integer\n",
    "predicted_head_counts = np.round(predictions.flatten()).astype(int)\n",
    "\n",
    "# Create a DataFrame for the submission\n",
    "submission_df = pd.DataFrame({\n",
    "    'Name': test_df['Name'],\n",
    "    'HeadCount': predicted_head_counts\n",
    "})\n",
    "\n",
    "# Save the submission DataFrame to a CSV file\n",
    "submission_df.to_csv('submission_main3.csv', index=False)"
   ]
  },
  {
   "cell_type": "code",
   "execution_count": null,
   "id": "fbf72540-e4c3-4fa4-a7dd-0cbb4eb81348",
   "metadata": {},
   "outputs": [],
   "source": []
  }
 ],
 "metadata": {
  "kernelspec": {
   "display_name": "Python 3 (ipykernel)",
   "language": "python",
   "name": "python3"
  },
  "language_info": {
   "codemirror_mode": {
    "name": "ipython",
    "version": 3
   },
   "file_extension": ".py",
   "mimetype": "text/x-python",
   "name": "python",
   "nbconvert_exporter": "python",
   "pygments_lexer": "ipython3",
   "version": "3.11.5"
  }
 },
 "nbformat": 4,
 "nbformat_minor": 5
}
