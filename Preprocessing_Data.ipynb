{
 "cells": [
  {
   "cell_type": "code",
   "execution_count": 3,
   "id": "1f3337ab-bb60-42be-bb20-f075e486acf3",
   "metadata": {},
   "outputs": [],
   "source": [
    "import os\n",
    "import pandas as pd\n",
    "from PIL import Image\n",
    "import numpy as np\n",
    "from tqdm import tqdm\n",
    "import cv2"
   ]
  },
  {
   "cell_type": "code",
   "execution_count": 4,
   "id": "e4d1de69-ebf4-4665-9354-dfaa0b19b832",
   "metadata": {},
   "outputs": [],
   "source": [
    "train_df = pd.read_csv('dataset/train.csv')\n",
    "bbox_df = pd.read_csv('dataset/bbox.csv')"
   ]
  },
  {
   "cell_type": "code",
   "execution_count": 7,
   "id": "99b8efa5-eb11-49fd-96d3-40fae7289ffa",
   "metadata": {},
   "outputs": [
    {
     "name": "stderr",
     "output_type": "stream",
     "text": [
      "100%|████████████████████████████████████████████████████████████████████████████| 10233/10233 [03:17<00:00, 51.88it/s]\n",
      "100%|██████████████████████████████████████████████████████████████████████████████| 3963/3963 [01:16<00:00, 51.74it/s]\n"
     ]
    }
   ],
   "source": [
    "def preprocess_images(image_folder, output_folder, df, size=(224, 224)):\n",
    "    if not os.path.exists(output_folder):\n",
    "        os.makedirs(output_folder)\n",
    "\n",
    "    for i, row in tqdm(df.iterrows(), total=len(df)):\n",
    "        image_path = os.path.join(image_folder, row['Name'])\n",
    "        image = Image.open(image_path)\n",
    "        image = image.resize(size)\n",
    "        image = np.array(image) / 255.0  # Normalize pixel values\n",
    "        image = (image * 255).astype(np.uint8)  # Convert back to 8-bit values\n",
    "\n",
    "        output_path = os.path.join(output_folder, row['Name'])\n",
    "        cv2.imwrite(output_path, cv2.cvtColor(image, cv2.COLOR_RGB2BGR))\n",
    "\n",
    "# Preprocess training images\n",
    "preprocess_images('dataset/train', 'dataset/preprocessed/train', train_df)\n",
    "\n",
    "# Preprocess testing images (assuming you have a test.csv similar to train.csv)\n",
    "test_df = pd.read_csv('dataset/test.csv')\n",
    "preprocess_images('dataset/test', 'dataset/preprocessed/test', test_df)\n",
    "\n"
   ]
  },
  {
   "cell_type": "code",
   "execution_count": 8,
   "id": "0cbed174-6683-4d43-b730-1acc74755f87",
   "metadata": {},
   "outputs": [
    {
     "name": "stderr",
     "output_type": "stream",
     "text": [
      "100%|██████████████████████████████████████████████████████████████████████████| 62529/62529 [00:06<00:00, 9047.38it/s]\n"
     ]
    }
   ],
   "source": [
    "def process_bounding_boxes(df, image_folder):\n",
    "    processed_boxes = {}\n",
    "    for _, row in tqdm(df.iterrows(), total=len(df)):\n",
    "        image_name = row['Name']\n",
    "        if image_name not in processed_boxes:\n",
    "            processed_boxes[image_name] = []\n",
    "        processed_boxes[image_name].append([row['xmin'], row['ymin'], row['xmax'], row['ymax']])\n",
    "\n",
    "    # Save or use the processed_boxes dictionary as needed\n",
    "    return processed_boxes\n",
    "\n",
    "bbox_dict = process_bounding_boxes(bbox_df, 'dataset/train')\n"
   ]
  },
  {
   "cell_type": "code",
   "execution_count": null,
   "id": "ce88316e-5df6-4c23-9775-d1f32aec07d4",
   "metadata": {},
   "outputs": [],
   "source": []
  }
 ],
 "metadata": {
  "kernelspec": {
   "display_name": "Python 3 (ipykernel)",
   "language": "python",
   "name": "python3"
  },
  "language_info": {
   "codemirror_mode": {
    "name": "ipython",
    "version": 3
   },
   "file_extension": ".py",
   "mimetype": "text/x-python",
   "name": "python",
   "nbconvert_exporter": "python",
   "pygments_lexer": "ipython3",
   "version": "3.8.0"
  }
 },
 "nbformat": 4,
 "nbformat_minor": 5
}
